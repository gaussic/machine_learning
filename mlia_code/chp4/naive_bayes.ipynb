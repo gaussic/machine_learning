{
 "cells": [
  {
   "cell_type": "code",
   "execution_count": 1,
   "metadata": {
    "collapsed": true,
    "deletable": true,
    "editable": true
   },
   "outputs": [],
   "source": [
    "import numpy as np\n",
    "import matplotlib.pyplot as plt\n",
    "import re\n",
    "import feedparser as fp\n",
    "\n",
    "%matplotlib inline"
   ]
  },
  {
   "cell_type": "markdown",
   "metadata": {
    "deletable": true,
    "editable": true
   },
   "source": [
    "## 4.5 使用Python 进行文本分类\n",
    "\n",
    "### 4.5.1 准备数据：从文本中构建词向量"
   ]
  },
  {
   "cell_type": "code",
   "execution_count": 2,
   "metadata": {
    "collapsed": true,
    "deletable": true,
    "editable": true
   },
   "outputs": [],
   "source": [
    "def load_dataset():\n",
    "    posting_list = [['my', 'dog', 'has', 'flea', 'problems', 'help', 'please'],\n",
    "                    ['maybe', 'not', 'take', 'him', 'to', 'dog', 'park', 'stupid'],\n",
    "                    ['my', 'dalmation', 'is', 'so', 'cute', 'I', 'love', 'him'], \n",
    "                    ['stop', 'posting', 'stupid', 'worthless', 'garbage'], \n",
    "                    ['mr', 'licks', 'ate', 'my', 'steak', 'how', 'to', 'stop', 'him'], \n",
    "                    ['quit', 'buying', 'worthless', 'dog', 'food', 'stupid']]\n",
    "    class_vec = [0, 1, 0, 1, 0, 1]\n",
    "    return posting_list, class_vec"
   ]
  },
  {
   "cell_type": "code",
   "execution_count": 3,
   "metadata": {
    "collapsed": true,
    "deletable": true,
    "editable": true
   },
   "outputs": [],
   "source": [
    "def create_vocab_list(dataset):   # 词汇表\n",
    "    vocab_set = set()\n",
    "    for document in dataset:\n",
    "        vocab_set = vocab_set | set(document)\n",
    "    return list(vocab_set)\n",
    "\n",
    "def set_of_words_2_vec(vocab_list, input_set):  # 长度为词汇表大小的词向量\n",
    "    return_vec = [0] * len(vocab_list)\n",
    "    for word in input_set:\n",
    "        if word in vocab_list:\n",
    "            return_vec[vocab_list.index(word)] = 1\n",
    "        else:\n",
    "            print('The word: %s is not in my vocabulary!' % word)\n",
    "    return return_vec"
   ]
  },
  {
   "cell_type": "code",
   "execution_count": 4,
   "metadata": {
    "collapsed": false,
    "deletable": true,
    "editable": true
   },
   "outputs": [
    {
     "name": "stdout",
     "output_type": "stream",
     "text": [
      "['I', 'has', 'so', 'posting', 'to', 'him', 'stupid', 'worthless', 'licks', 'not', 'love', 'stop', 'dalmation', 'flea', 'please', 'dog', 'food', 'steak', 'take', 'is', 'help', 'my', 'problems', 'quit', 'ate', 'garbage', 'mr', 'maybe', 'how', 'buying', 'cute', 'park']\n"
     ]
    }
   ],
   "source": [
    "list_posts, list_classes = load_dataset()\n",
    "vocab_list = create_vocab_list(list_posts)\n",
    "print(vocab_list)"
   ]
  },
  {
   "cell_type": "markdown",
   "metadata": {
    "deletable": true,
    "editable": true
   },
   "source": [
    "### 4.5.2 训练算法：从词向量计算概率"
   ]
  },
  {
   "cell_type": "code",
   "execution_count": 5,
   "metadata": {
    "collapsed": false,
    "deletable": true,
    "editable": true
   },
   "outputs": [
    {
     "name": "stderr",
     "output_type": "stream",
     "text": [
      "/Users/gaussic/anaconda/envs/tensorflow/lib/python3.5/site-packages/ipykernel/__main__.py:3: RuntimeWarning: divide by zero encountered in log\n",
      "  app.launch_new_instance()\n"
     ]
    },
    {
     "data": {
      "image/png": "[encoded data removed]",
      "text/plain": [
       "<matplotlib.figure.Figure at 0x10b93b630>"
      ]
     },
     "metadata": {},
     "output_type": "display_data"
    }
   ],
   "source": [
    "t = np.arange(0.0, 0.5, 0.01)\n",
    "s = np.sin(2*np.pi*t)\n",
    "logS = np.log(s)\n",
    "\n",
    "fig = plt.figure()\n",
    "ax = fig.add_subplot(211)\n",
    "ax.plot(t,s)\n",
    "ax.set_ylabel('f(x)')\n",
    "ax.set_xlabel('x')\n",
    "\n",
    "ax = fig.add_subplot(212)\n",
    "ax.plot(t,logS)\n",
    "ax.set_ylabel('ln(f(x))')\n",
    "ax.set_xlabel('x')\n",
    "plt.show()"
   ]
  },
  {
   "cell_type": "markdown",
   "metadata": {
    "deletable": true,
    "editable": true
   },
   "source": [
    "### 4.5.3 测试算法：根据现实情况修改分类器"
   ]
  },
  {
   "cell_type": "code",
   "execution_count": 6,
   "metadata": {
    "collapsed": false,
    "deletable": true,
    "editable": true
   },
   "outputs": [],
   "source": [
    "def train_nbo(train_matrix, train_category):\n",
    "    '''每个类别中，每个词出现的概率'''\n",
    "    num_train_docs = len(train_matrix)\n",
    "    num_words = len(train_matrix[0])\n",
    "    p_abusive = np.sum(train_category) / float(num_train_docs) # 1出现的概率\n",
    "    p0_num = np.ones((num_words))       # 该类别中，每个词出现多少次，防止为0，全部初始化为1\n",
    "    p1_num = np.ones((num_words))\n",
    "    for i in range(num_train_docs):\n",
    "        if train_category[i] == 1:\n",
    "            p1_num += train_matrix[i]\n",
    "        else:\n",
    "            p0_num += train_matrix[i]\n",
    "    p1_vect = np.log(p1_num / np.sum(p1_num))  # 采用 log\n",
    "    p0_vect = np.log(p0_num / np.sum(p0_num))\n",
    "    return p0_vect, p1_vect, p_abusive"
   ]
  },
  {
   "cell_type": "code",
   "execution_count": 7,
   "metadata": {
    "collapsed": false,
    "deletable": true,
    "editable": true
   },
   "outputs": [
    {
     "data": {
      "text/plain": [
       "array([-3.33220451, -3.33220451, -3.33220451, -4.02535169, -3.33220451,\n",
       "       -2.9267394 , -4.02535169, -4.02535169, -3.33220451, -4.02535169,\n",
       "       -3.33220451, -3.33220451, -3.33220451, -3.33220451, -3.33220451,\n",
       "       -3.33220451, -4.02535169, -3.33220451, -4.02535169, -3.33220451,\n",
       "       -3.33220451, -2.63905733, -3.33220451, -4.02535169, -3.33220451,\n",
       "       -4.02535169, -3.33220451, -4.02535169, -3.33220451, -4.02535169,\n",
       "       -3.33220451, -4.02535169])"
      ]
     },
     "execution_count": 7,
     "metadata": {},
     "output_type": "execute_result"
    }
   ],
   "source": [
    "train_mat = []\n",
    "for posting_doc in list_posts:\n",
    "    train_mat.append(set_of_words_2_vec(vocab_list, posting_doc))\n",
    "p0v, p1v, pab = train_nbo(train_mat, list_classes)\n",
    "p0v"
   ]
  },
  {
   "cell_type": "code",
   "execution_count": 8,
   "metadata": {
    "collapsed": true,
    "deletable": true,
    "editable": true
   },
   "outputs": [],
   "source": [
    "def classify_nb(vec_2_classify, p0_vec, p1_vec, p_class1):\n",
    "    p1 = np.sum(vec_2_classify * p1_vec) + np.log(p_class1)\n",
    "    p0 = np.sum(vec_2_classify * p0_vec) + np.log(1 - p_class1)\n",
    "    if p1 > p0:\n",
    "        return 1\n",
    "    else:\n",
    "        return 0\n",
    "\n",
    "def testing_nb():\n",
    "    list_posts, list_classes = load_dataset()\n",
    "    vocab_list = create_vocab_list(list_posts)\n",
    "    train_mat = [set_of_words_2_vec(vocab_list, posting_doc) for posting_doc in list_posts]\n",
    "    p01, p1v, p_class1 = train_nbo(np.array(train_mat), np.array(list_classes))\n",
    "    test_entry = ['love', 'my', 'dalmation']\n",
    "    this_doc = np.array(set_of_words_2_vec(vocab_list, test_entry))\n",
    "    print(test_entry, 'classified as:', classify_nb(this_doc, p0v, p1v, p_class1))\n",
    "    test_entry = ['stupid', 'garbage']\n",
    "    this_doc = np.array(set_of_words_2_vec(vocab_list, test_entry))\n",
    "    print(test_entry, 'classified as:', classify_nb(this_doc, p0v, p1v, p_class1))\n",
    "    "
   ]
  },
  {
   "cell_type": "code",
   "execution_count": 9,
   "metadata": {
    "collapsed": false,
    "deletable": true,
    "editable": true
   },
   "outputs": [
    {
     "name": "stdout",
     "output_type": "stream",
     "text": [
      "['love', 'my', 'dalmation'] classified as: 0\n",
      "['stupid', 'garbage'] classified as: 1\n"
     ]
    }
   ],
   "source": [
    "testing_nb()"
   ]
  },
  {
   "cell_type": "markdown",
   "metadata": {
    "deletable": true,
    "editable": true
   },
   "source": [
    "### 4.5.4 准备数据：文档词袋模型"
   ]
  },
  {
   "cell_type": "code",
   "execution_count": 10,
   "metadata": {
    "collapsed": true,
    "deletable": true,
    "editable": true
   },
   "outputs": [],
   "source": [
    "def bag_of_words_2_vec(vocab_list, input_set):\n",
    "    return_vec = [0] * len(vocab_list)\n",
    "    for word in input_set:\n",
    "        if word in vocab_list:\n",
    "            return_vec[vocab_list.index(word)] += 1\n",
    "    return return_vec"
   ]
  },
  {
   "cell_type": "markdown",
   "metadata": {
    "deletable": true,
    "editable": true
   },
   "source": [
    "## 4.6 示例：使用朴素贝叶斯过滤垃圾邮件\n",
    "\n",
    "### 4.6.1 准备数据：切分文本\n",
    "\n",
    "### 4.6.2 测试算法：使用朴素贝叶斯进行交叉验证"
   ]
  },
  {
   "cell_type": "code",
   "execution_count": 11,
   "metadata": {
    "collapsed": false,
    "deletable": true,
    "editable": true
   },
   "outputs": [],
   "source": [
    "def text_parse(big_string):\n",
    "    list_of_tokens = re.split(r'\\W+', big_string)\n",
    "    return [tok.lower() for tok in list_of_tokens if len(tok) > 2]\n",
    "\n",
    "def spam_test():\n",
    "    doc_list = []\n",
    "    class_list = []\n",
    "    full_text = []\n",
    "    for i in range(1, 26):\n",
    "        word_list = text_parse(open('email/spam/%d.txt' % i, encoding='utf-8').read())\n",
    "        \n",
    "        doc_list.append(word_list)\n",
    "        full_text.extend(word_list)\n",
    "        class_list.append(1)\n",
    "        word_list = text_parse(open('email/ham/%d.txt' % i, encoding='utf-8').read())\n",
    "        doc_list.append(word_list)\n",
    "        full_text.extend(word_list)\n",
    "        class_list.append(0)\n",
    "    vocab_list = create_vocab_list(doc_list)\n",
    "    training_set = list(range(50))\n",
    "    test_set = []\n",
    "    for i in range(10):\n",
    "        rand_index = int(np.random.uniform(0, len(training_set)))\n",
    "        test_set.append(training_set[rand_index])\n",
    "        del[training_set[rand_index]]\n",
    "    train_mat = []\n",
    "    train_class = []\n",
    "    for doc_index in training_set:\n",
    "        train_mat.append(bag_of_words_2_vec(vocab_list, doc_list[doc_index]))\n",
    "        train_class.append(class_list[doc_index])\n",
    "    p0v, p1v, pSpam = train_nbo(np.array(train_mat), np.array(train_class))\n",
    "    \n",
    "    error_count = 0\n",
    "    for doc_index in test_set:\n",
    "        word_vector = bag_of_words_2_vec(vocab_list, doc_list[doc_index])\n",
    "        if classify_nb(np.array(word_vector), p0v, p1v, pSpam) != class_list[doc_index]:\n",
    "            error_count += 1\n",
    "    print(\"The erro rate is: %f\" % (float(error_count) / len(test_set)))"
   ]
  },
  {
   "cell_type": "code",
   "execution_count": 12,
   "metadata": {
    "collapsed": false,
    "deletable": true,
    "editable": true
   },
   "outputs": [
    {
     "name": "stdout",
     "output_type": "stream",
     "text": [
      "The erro rate is: 0.000000\n"
     ]
    }
   ],
   "source": [
    "spam_test()"
   ]
  },
  {
   "cell_type": "markdown",
   "metadata": {
    "deletable": true,
    "editable": true
   },
   "source": [
    "## 4.7 使用朴素贝叶斯分类器从个人广告中获取区域倾向"
   ]
  },
  {
   "cell_type": "code",
   "execution_count": 13,
   "metadata": {
    "collapsed": true,
    "deletable": true,
    "editable": true
   },
   "outputs": [],
   "source": [
    "def calc_most_freq(vocab_list, full_text):\n",
    "    freq_dict = {}\n",
    "    for token in vocab_list:\n",
    "        freq_dict[token] = full_text.count(token)\n",
    "        sorted_freq = sorted(freq_dict.items(), key=lambda x: x[1], reverse=True)\n",
    "    return sorted_freq[:30]\n",
    "\n",
    "def local_words(feed1, feed0):\n",
    "    doc_list = []\n",
    "    class_list = []\n",
    "    full_text = []\n",
    "    min_len = min(len(feed1['entries']), len(feed0['entries']))\n",
    "    for i in range(min_len):\n",
    "        word_list = text_parse(feed1['entries'][i]['summary'])\n",
    "        doc_list.append(word_list)\n",
    "        full_text.extend(word_list)\n",
    "        class_list.append(1)\n",
    "        word_list = text_parse(feed0['entries'][i]['summary'])\n",
    "        doc_list.append(word_list)\n",
    "        full_text.extend(word_list)\n",
    "        class_list.append(0)\n",
    "    vocab_list = create_vocab_list(doc_list)\n",
    "    top30_words = calc_most_freq(vocab_list, full_text)\n",
    "    for pairW in top30_words:\n",
    "        if pairW[0] in vocab_list:\n",
    "            vocab_list.remove(pairW[0])\n",
    "    training_set = list(range(2*min_len));\n",
    "    test_set = []\n",
    "    for i in range(10):\n",
    "        rand_index = int(np.random.uniform(0, len(training_set)))\n",
    "        test_set.append(training_set[rand_index])\n",
    "        del[training_set[rand_index]]\n",
    "    train_mat = []\n",
    "    train_classes = []\n",
    "    for doc_index in training_set:\n",
    "        train_mat.append(bag_of_words_2_vec(vocab_list, doc_list[doc_index]))\n",
    "        train_classes.append(class_list[doc_index])\n",
    "    p0v, p1v, pSpam = train_nbo(np.array(train_mat), np.array(train_classes))\n",
    "    error_count = 0\n",
    "    \n",
    "    for doc_index in test_set:\n",
    "        word_vector = bag_of_words_2_vec(vocab_list, doc_list[doc_index])\n",
    "        if classify_nb(np.array(word_vector), p0v, p1v, pSpam) != class_list[doc_index]:\n",
    "            error_count += 1\n",
    "    print(\"The erro rate is: %f\" % (float(error_count) / len(test_set)))\n",
    "    return vocab_list, p0v, p1v"
   ]
  },
  {
   "cell_type": "code",
   "execution_count": 14,
   "metadata": {
    "collapsed": true,
    "deletable": true,
    "editable": true
   },
   "outputs": [],
   "source": [
    "ny = fp.parse('http://newyork.craigslist.org/stp/index.rss')\n",
    "sf = fp.parse('http://sfbay.craigslist.org/stp/index.rss')"
   ]
  },
  {
   "cell_type": "code",
   "execution_count": 15,
   "metadata": {
    "collapsed": false,
    "deletable": true,
    "editable": true
   },
   "outputs": [
    {
     "name": "stdout",
     "output_type": "stream",
     "text": [
      "The erro rate is: 0.400000\n"
     ]
    }
   ],
   "source": [
    "vocab_list, psf, pny = local_words(ny, sf)"
   ]
  },
  {
   "cell_type": "markdown",
   "metadata": {
    "deletable": true,
    "editable": true
   },
   "source": [
    "### 4.7.2 分析数据：显示地域相关的用词"
   ]
  },
  {
   "cell_type": "code",
   "execution_count": 16,
   "metadata": {
    "collapsed": false,
    "deletable": true,
    "editable": true
   },
   "outputs": [],
   "source": [
    "def get_top_words(ny, sf):\n",
    "    vocab_list, p0v, p1v = local_words(ny, sf)\n",
    "    top_ny = []\n",
    "    top_sf = []\n",
    "    for i in range(len(p0v)):\n",
    "        if p0v[i] > -6.0:\n",
    "            top_sf.append((vocab_list[i], p0v[i]))\n",
    "        if p1v[i] > -6.0:\n",
    "            top_ny.append((vocab_list[i], p1v[i]))\n",
    "    sorted_sf = sorted(top_sf, key=lambda x : x[1], reverse=True)\n",
    "    print('SF**'*10)\n",
    "    for item in sorted_sf:\n",
    "        print(item[0])\n",
    "    sorted_ny = sorted(top_ny, key=lambda x : x[1], reverse=True)\n",
    "    print('NY**'*10)\n",
    "    for item in sorted_ny:\n",
    "        print(item[0])"
   ]
  },
  {
   "cell_type": "code",
   "execution_count": 17,
   "metadata": {
    "collapsed": false,
    "deletable": true,
    "editable": true,
    "scrolled": true
   },
   "outputs": [
    {
     "name": "stdout",
     "output_type": "stream",
     "text": [
      "The erro rate is: 0.300000\n",
      "SF**SF**SF**SF**SF**SF**SF**SF**SF**SF**\n",
      "friend\n",
      "going\n",
      "through\n",
      "fun\n",
      "partner\n",
      "from\n",
      "talk\n",
      "only\n",
      "around\n",
      "new\n",
      "right\n",
      "find\n",
      "well\n",
      "professional\n",
      "jose\n",
      "there\n",
      "age\n",
      "people\n",
      "group\n",
      "also\n",
      "times\n",
      "trying\n",
      "more\n",
      "san\n",
      "salsa\n",
      "would\n",
      "friends\n",
      "female\n",
      "ongoing\n",
      "weekend\n",
      "play\n",
      "greetings\n",
      "cool\n",
      "cha\n",
      "facebook\n",
      "sunnyvale\n",
      "local\n",
      "maybe\n",
      "country\n",
      "few\n",
      "must\n",
      "drinks\n",
      "lot\n",
      "join\n",
      "over\n",
      "western\n",
      "lupin\n",
      "serious\n",
      "part\n",
      "event\n",
      "straight\n",
      "dances\n",
      "drink\n",
      "created\n",
      "healthy\n",
      "dancer\n",
      "now\n",
      "road\n",
      "white\n",
      "each\n",
      "take\n",
      "hikers\n",
      "grab\n",
      "bodyfest\n",
      "top\n",
      "other\n",
      "been\n",
      "long\n",
      "latin\n",
      "knows\n",
      "tennis\n",
      "anymore\n",
      "kindred\n",
      "then\n",
      "meet\n",
      "better\n",
      "dance\n",
      "woman\n",
      "2017\n",
      "likes\n",
      "steady\n",
      "married\n",
      "living\n",
      "NY**NY**NY**NY**NY**NY**NY**NY**NY**NY**\n",
      "let\n",
      "any\n",
      "need\n",
      "get\n",
      "meet\n",
      "new\n",
      "person\n",
      "tantra\n",
      "them\n",
      "here\n",
      "into\n",
      "over\n",
      "feet\n",
      "woman\n",
      "after\n",
      "briefs\n",
      "etc\n",
      "single\n",
      "there\n",
      "male\n",
      "maybe\n",
      "thoughts\n",
      "reach\n",
      "look\n",
      "day\n",
      "job\n",
      "email\n",
      "connect\n",
      "school\n",
      "from\n",
      "will\n",
      "women\n",
      "being\n",
      "now\n",
      "year\n",
      "very\n",
      "work\n",
      "massage\n",
      "upscale\n",
      "free\n",
      "next\n",
      "friend\n",
      "posting\n",
      "anything\n",
      "life\n",
      "see\n",
      "wanted\n",
      "could\n",
      "friends\n"
     ]
    }
   ],
   "source": [
    "get_top_words(ny, sf)"
   ]
  }
 ],
 "metadata": {
  "kernelspec": {
   "display_name": "Python 3",
   "language": "python",
   "name": "python3"
  },
  "language_info": {
   "codemirror_mode": {
    "name": "ipython",
    "version": 3
   },
   "file_extension": ".py",
   "mimetype": "text/x-python",
   "name": "python",
   "nbconvert_exporter": "python",
   "pygments_lexer": "ipython3",
   "version": "3.5.3"
  }
 },
 "nbformat": 4,
 "nbformat_minor": 2
}
